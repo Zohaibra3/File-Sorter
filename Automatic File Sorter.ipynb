{
 "cells": [
  {
   "cell_type": "code",
   "execution_count": 3,
   "id": "cf834c06-e761-4ae3-90c2-d48e86be8790",
   "metadata": {},
   "outputs": [],
   "source": [
    "import os\n",
    "import shutil\n",
    "\n",
    "# Define the path to the main folder and the folder names\n",
    "path = r\"D:\\Data Analyst\\sorter\"\n",
    "folder_names = ['Images', 'Videos', 'PDFs', 'Text files']\n",
    "\n",
    "# Define file type associations\n",
    "file_types = {\n",
    "    'Images': ['.jpg', '.jpeg', '.png', '.gif', '.bmp'],\n",
    "    'Videos': ['.mp4', '.avi', '.mov', '.mkv'],\n",
    "    'PDFs': ['.pdf'],\n",
    "    'Text files': ['.txt', '.doc', '.docx']\n",
    "}\n",
    "\n",
    "# Create the subfolders if they don't exist\n",
    "for folder_name in folder_names:\n",
    "    folder_path = os.path.join(path, folder_name)\n",
    "    if not os.path.exists(folder_path):\n",
    "        os.makedirs(folder_path)\n",
    "\n",
    "# List all files in the main folder\n",
    "files = [f for f in os.listdir(path) if os.path.isfile(os.path.join(path, f))]\n",
    "\n",
    "# Move files to their respective folders\n",
    "for file in files:\n",
    "    file_extension = os.path.splitext(file)[1].lower()\n",
    "    for folder_name, extensions in file_types.items():\n",
    "        if file_extension in extensions:\n",
    "            src_path = os.path.join(path, file)\n",
    "            dest_path = os.path.join(path, folder_name, file)\n",
    "            shutil.move(src_path, dest_path)\n",
    "            print(f'Moved {file} to {folder_name}')\n"
   ]
  },
  {
   "cell_type": "code",
   "execution_count": null,
   "id": "49c36c9f-ed16-4213-98f2-a22bf637ec2e",
   "metadata": {},
   "outputs": [],
   "source": []
  }
 ],
 "metadata": {
  "kernelspec": {
   "display_name": "Python 3 (ipykernel)",
   "language": "python",
   "name": "python3"
  },
  "language_info": {
   "codemirror_mode": {
    "name": "ipython",
    "version": 3
   },
   "file_extension": ".py",
   "mimetype": "text/x-python",
   "name": "python",
   "nbconvert_exporter": "python",
   "pygments_lexer": "ipython3",
   "version": "3.12.4"
  }
 },
 "nbformat": 4,
 "nbformat_minor": 5
}
